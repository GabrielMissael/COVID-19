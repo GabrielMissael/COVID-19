{
 "cells": [
  {
   "cell_type": "markdown",
   "metadata": {},
   "source": [
    "# Distanciamiento social\n",
    "Por: Gabriel Missael Barco\n",
    "\n",
    "En diversos estudios se concluye que el distanciamiento social ayuda a frenar el avance rapido de una epidemia; estas conclusiones son obtenidas principalmente mediante simulaciones y realizando diversas suposiciones sobre la estructura social y el comportamiento de los individuos, particularmente con aquellas cosas que tengan que ver con el contacto directo con otras personas. Veanse, por ejemplo, estos dos muy buenos articulos: \n",
    "\n",
    "1. [Spontaneous social distancing in response\n",
    "to a simulated epidemic: a virtual experiment](https://bmcpublichealth.biomedcentral.com/track/pdf/10.1186/s12889-015-2336-7)\n",
    "2. [Targeted Social Distancing Designs for Pandemic Influenza](https://www.ncbi.nlm.nih.gov/pmc/articles/PMC3372334/)\n",
    "\n"
   ]
  },
  {
   "cell_type": "code",
   "execution_count": 5,
   "metadata": {},
   "outputs": [],
   "source": [
    "#Utilizaremos estas librerias.\n",
    "\n",
    "import numpy as np\n",
    "import matplotlib.pyplot as plt\n",
    "import math as mt\n",
    "import pandas as pd"
   ]
  },
  {
   "cell_type": "markdown",
   "metadata": {},
   "source": [
    "En este notebook realizamos una simulacion ilustrativa de la expansión de una pandemia con y sin distanciamiento social, y otra con congeturas muy generales sobre la población de, en este caso, la ciudad de León, Guanajuato, México. Notese que, a pesar de que he tratado de tomar paramtros reales sobre la población y el coronavirus, esto es meramente un experimento y **no debe ser tomado como un analisis serio** (por ejemplo, ninguna de las variables declaradas a continuación son valores dados, si no que tienen una función de probabilidad no es tomada en cuenta aqui)."
   ]
  },
  {
   "cell_type": "code",
   "execution_count": 6,
   "metadata": {},
   "outputs": [],
   "source": [
    "#La población en la ciudad de león\n",
    "N_personas = 1239000\n",
    "\n",
    "#probabilidad de transmisión dado que una persona sana tiene contacto con una persona portadora\n",
    "#(es alta ya que el SARS-CoV-2 es altamente contagioso)\n",
    "p_transmision = 0.5\n",
    "\n",
    "#dias de incubación\n",
    "t_asintomatico = 12\n",
    "\n",
    "#dias de recuperación\n",
    "t_rec = 14\n",
    "\n",
    "#probabilidad de muerte\n",
    "p_muerte = 0.02\n",
    "\n",
    "estado = {\n",
    "    \"sano\":0,\n",
    "    \"asintomatico\":1,\n",
    "    \"muerto\":2,\n",
    "    \"inmune\":3\n",
    "}\n",
    "\n",
    "personas = np.zeros(N_personas)"
   ]
  },
  {
   "cell_type": "markdown",
   "metadata": {},
   "source": [
    "### To be continued..."
   ]
  }
 ],
 "metadata": {
  "kernelspec": {
   "display_name": "Python 3",
   "language": "python",
   "name": "python3"
  },
  "language_info": {
   "codemirror_mode": {
    "name": "ipython",
    "version": 3
   },
   "file_extension": ".py",
   "mimetype": "text/x-python",
   "name": "python",
   "nbconvert_exporter": "python",
   "pygments_lexer": "ipython3",
   "version": "3.7.1"
  }
 },
 "nbformat": 4,
 "nbformat_minor": 2
}
